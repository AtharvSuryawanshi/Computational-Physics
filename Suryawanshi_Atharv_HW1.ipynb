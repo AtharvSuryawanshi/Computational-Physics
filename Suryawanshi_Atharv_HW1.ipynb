{
 "cells": [
  {
   "cell_type": "code",
   "execution_count": 1,
   "metadata": {},
   "outputs": [],
   "source": [
    "# relevant modules\n",
    "import numpy as np"
   ]
  },
  {
   "cell_type": "markdown",
   "metadata": {},
   "source": [
    "###  Exercise 1: A ball dropped from a tower"
   ]
  },
  {
   "cell_type": "code",
   "execution_count": 2,
   "metadata": {},
   "outputs": [
    {
     "data": {
      "text/plain": [
       "4.5175395145262565"
      ]
     },
     "execution_count": 2,
     "metadata": {},
     "output_type": "execute_result"
    }
   ],
   "source": [
    "height = 100\n",
    "def time_taken_to_reach_ground(height):\n",
    "    time = (2*height/9.8)**0.5\n",
    "    return time\n",
    "\n",
    "time_taken_to_reach_ground(100)"
   ]
  },
  {
   "cell_type": "markdown",
   "metadata": {},
   "source": [
    "###  Exercise 2: Altitude of a satellite"
   ]
  },
  {
   "cell_type": "markdown",
   "metadata": {},
   "source": [
    "#### a)"
   ]
  },
  {
   "cell_type": "code",
   "execution_count": 3,
   "metadata": {},
   "outputs": [],
   "source": [
    "G = 6.6743E-11\n",
    "M = 5.972E24\n",
    "R = 6.371E6\n",
    "def altitude_of_revol(time): # time in sec\n",
    "    r = ((G*M)*time**2/(4*np.pi**2))**(1/3)\n",
    "    alt = r - R\n",
    "    return alt"
   ]
  },
  {
   "cell_type": "markdown",
   "metadata": {},
   "source": [
    "#### b)"
   ]
  },
  {
   "cell_type": "code",
   "execution_count": 4,
   "metadata": {},
   "outputs": [
    {
     "name": "stdout",
     "output_type": "stream",
     "text": [
      "Altitude every 24 hrs is 35869.698 km\n",
      "Altitude every 90 mins is 281.493 km\n",
      "Altitude every 45 mins is -2180.192 km\n"
     ]
    }
   ],
   "source": [
    "print(f\"Altitude every 24 hrs is {altitude_of_revol(24 * 3600)/ 1000:.3f} km\")\n",
    "\n",
    "print(f\"Altitude every 90 mins is {altitude_of_revol(90 * 60)/ 1000:.3f} km\")\n",
    "\n",
    "print(f\"Altitude every 45 mins is {altitude_of_revol(45 * 60)/1000:.3f} km\")"
   ]
  },
  {
   "cell_type": "markdown",
   "metadata": {},
   "source": [
    "From the last calculation, we conclude that for a satellite to revolve so fast, it should be closer to the centre of the earth than the radius of the earth due to strong requirement of centripital force.\n",
    "\n",
    "#### c)\n",
    "24 hrs is time taken for Sun to be in the same position wrt stars (solar day) whlie 23.93 hrs is the time it takes for the Earth to actually rotate wrt the to the stars."
   ]
  },
  {
   "cell_type": "code",
   "execution_count": 5,
   "metadata": {},
   "outputs": [
    {
     "name": "stdout",
     "output_type": "stream",
     "text": [
      "Difference of altitude between the two orbits is 82.175 km\n"
     ]
    }
   ],
   "source": [
    "print(f\"Difference of altitude between the two orbits is {(altitude_of_revol(24*3600) - altitude_of_revol(23.93 * 3600))/1000:.3f} km\")"
   ]
  },
  {
   "cell_type": "markdown",
   "metadata": {},
   "source": [
    "### Exercise 3"
   ]
  },
  {
   "cell_type": "code",
   "execution_count": 6,
   "metadata": {},
   "outputs": [
    {
     "name": "stdout",
     "output_type": "stream",
     "text": [
      "Polar coordinates of (1,2) are (2.23606797749979, 63.43494882292201)\n"
     ]
    }
   ],
   "source": [
    "def polar_coords(x, y):\n",
    "    r = (x**2 + y**2)**0.5\n",
    "    theta = np.arctan(y/x)*180.0/np.pi\n",
    "    return r, theta \n",
    "\n",
    "r, theta = polar_coords(1,2)\n",
    "print(f\"Polar coordinates of (1,2) are {(r, theta)}\")"
   ]
  },
  {
   "cell_type": "markdown",
   "metadata": {},
   "source": [
    "###  Exercise 4"
   ]
  },
  {
   "cell_type": "code",
   "execution_count": 7,
   "metadata": {},
   "outputs": [
    {
     "name": "stdout",
     "output_type": "stream",
     "text": [
      "Time taken to travel 10 light years at 0.99c is 10.101 years in rest frame and 1.425 years in passengers's frame.\n"
     ]
    }
   ],
   "source": [
    "def time_wrt_rest(x, v):\n",
    "    return x/v # time in years\n",
    "\n",
    "def time_wrt_traveller(x, v):\n",
    "    gamma = 1/(1- v**2)**0.5\n",
    "    return x/v/gamma\n",
    "\n",
    "print(f\"Time taken to travel 10 light years at 0.99c is {time_wrt_rest(10, 0.99):.3f} years in rest frame and {time_wrt_traveller(10, 0.99):.3f} years in passengers's frame.\")   "
   ]
  },
  {
   "cell_type": "markdown",
   "metadata": {},
   "source": [
    "###  Exercise 5: Quantum potential step"
   ]
  },
  {
   "cell_type": "code",
   "execution_count": 8,
   "metadata": {},
   "outputs": [
    {
     "name": "stdout",
     "output_type": "stream",
     "text": [
      "For the given values of mass, energy and potential, the reflection probability is 0.270 and transmission probability is 0.730\n"
     ]
    }
   ],
   "source": [
    "def quantum_step(m, E, V):\n",
    "    h_bar = 1.05E-34\n",
    "    E *= 1.6E-19 # conversion to joule \n",
    "    V *= 1.6E-19\n",
    "    k1 = ((2*m/h_bar)*(E/h_bar))**0.5\n",
    "    k2 = ((2*m/h_bar)*(E - V)/h_bar)**0.5\n",
    "    reflection_prob = ((k1 - k2)/(k1 + k2))**2\n",
    "    transmission_prob = 4*k1*k2/(k1 + k2)**2\n",
    "    return reflection_prob, transmission_prob\n",
    "\n",
    "refl_prob, transm_prb = quantum_step(9.11E-31, 10, 9)\n",
    "print(f\"For the given values of mass, energy and potential, the reflection probability is {refl_prob:.3f} and transmission probability is {transm_prb:.3f}\")\n"
   ]
  },
  {
   "cell_type": "markdown",
   "metadata": {},
   "source": [
    "### Exercise 6: Catalan numbers"
   ]
  },
  {
   "cell_type": "code",
   "execution_count": 9,
   "metadata": {},
   "outputs": [
    {
     "name": "stdout",
     "output_type": "stream",
     "text": [
      "1\n",
      "1.0\n",
      "2.0\n",
      "5.0\n",
      "14.0\n",
      "42.0\n",
      "132.0\n",
      "429.0\n",
      "1430.0\n",
      "4862.0\n",
      "16796.0\n",
      "58786.0\n",
      "208012.0\n",
      "742900.0\n",
      "2674440.0\n",
      "9694845.0\n",
      "35357670.0\n",
      "129644790.0\n",
      "477638700.0\n"
     ]
    }
   ],
   "source": [
    "def catalan_numbers(upper_bound):\n",
    "    C_n = 1\n",
    "    n = 0\n",
    "    while C_n <= upper_bound:\n",
    "        print(C_n)\n",
    "        C_n *= (4*n + 2)/(n + 2)\n",
    "        n += 1\n",
    "\n",
    "catalan_numbers(1E9)"
   ]
  },
  {
   "cell_type": "markdown",
   "metadata": {},
   "source": [
    "###  Exercise 7: The Madelung constant"
   ]
  },
  {
   "cell_type": "code",
   "execution_count": 10,
   "metadata": {},
   "outputs": [
    {
     "name": "stderr",
     "output_type": "stream",
     "text": [
      "C:\\Users\\Dell\\AppData\\Local\\Temp\\ipykernel_19588\\2687773383.py:3: RuntimeWarning: divide by zero encountered in divide\n",
      "  potential = 1/(i**2 + j**2 + k**2)**0.5\n"
     ]
    },
    {
     "name": "stdout",
     "output_type": "stream",
     "text": [
      "The value of Madelung constant is estimated as -1.7476\n"
     ]
    }
   ],
   "source": [
    "def potential(i, j, k):\n",
    "    # const = e/(4*pi*epsilon_not) = 1\n",
    "    potential = 1/(i**2 + j**2 + k**2)**0.5\n",
    "    return potential\n",
    "\n",
    "def total_potential_old(lower, upper):\n",
    "    V = 0\n",
    "    for i in range(lower, upper):\n",
    "        for j in range(lower, upper):\n",
    "            for k in range(lower, upper):\n",
    "                if (i,j,k) != (0,0,0):\n",
    "                    if (i + j + k) % 2 == 0:\n",
    "                        V += potential(i, j, k)\n",
    "                    else: \n",
    "                        V -= potential(i, j, k)\n",
    "    return V\n",
    "\n",
    "def total_potential(lower, upper):\n",
    "    indices = np.arange(lower, upper)\n",
    "    i, j, k = np.meshgrid(indices, indices, indices, indexing='ij')\n",
    "    indices_not_origin = (i != 0) | (j != 0) | (k != 0)\n",
    "    potentials = potential(i, j, k)\n",
    "    sign = np.where((i + j + k)%2 == 0, 1, -1)\n",
    "    V = np.sum(sign[indices_not_origin] * potentials[indices_not_origin])\n",
    "    return V\n",
    "\n",
    "total_potential(-100, 100)\n",
    "print(f\"The value of Madelung constant is estimated as {total_potential(-100, 100):.4f}\")"
   ]
  },
  {
   "cell_type": "markdown",
   "metadata": {},
   "source": [
    "###  Exercise 8: The semi-empirical mass formula\n",
    "#### a)"
   ]
  },
  {
   "cell_type": "code",
   "execution_count": 11,
   "metadata": {},
   "outputs": [
    {
     "name": "stdout",
     "output_type": "stream",
     "text": [
      " Binding energy for A = 58 and Z = 28 is 492.346 MeV\n"
     ]
    }
   ],
   "source": [
    "def binding_energy(A, Z):\n",
    "    a1, a2, a3, a4 = 15.67, 17.23, 0.75, 93.4\n",
    "    if A % 2 == 0:\n",
    "        a5 = 0.0\n",
    "    else:\n",
    "        if Z % 2 == 0:\n",
    "            a5 = 12.0\n",
    "        else:\n",
    "            a5 = -12.0\n",
    "    B = a1*A - a2*A**(2/3) - a3* Z**2 /A**(1/3) - a4*(A -2*Z)**2/A + a5/A**0.5\n",
    "    return B\n",
    "\n",
    "print(f\" Binding energy for A = 58 and Z = 28 is {binding_energy(58, 28):.3f} MeV\")\n",
    "    "
   ]
  },
  {
   "cell_type": "markdown",
   "metadata": {},
   "source": [
    "#### b)"
   ]
  },
  {
   "cell_type": "code",
   "execution_count": 12,
   "metadata": {},
   "outputs": [
    {
     "name": "stdout",
     "output_type": "stream",
     "text": [
      " Binding energy per nucleon for A = 58 and Z = 28 is 8.489 MeV/n\n"
     ]
    }
   ],
   "source": [
    "def binding_energy_per_nucleon(A, Z):\n",
    "    # vectorized code for efficiency\n",
    "    A, Z = np.asarray(A), np.asarray(Z)\n",
    "    a1, a2, a3, a4 = 15.67, 17.23, 0.75, 93.4\n",
    "    a5 = np.zeros_like(A) \n",
    "    even_A = (A % 2 == 0)\n",
    "    even_Z = (Z % 2 == 0)\n",
    "    a5[~even_A & even_Z] = 12.0   # Odd A, even Z\n",
    "    a5[~even_A & ~even_Z] = -12.0 # Odd A, odd Z\n",
    "    B = a1*A - a2*A**(2/3) - a3* Z**2 /A**(1/3) - a4*(A -2*Z)**2/A + a5/A**0.5\n",
    "    return B/A\n",
    "print(f\" Binding energy per nucleon for A = 58 and Z = 28 is {binding_energy_per_nucleon(58, 28):.3f} MeV/n\")"
   ]
  },
  {
   "cell_type": "markdown",
   "metadata": {},
   "source": [
    "#### c)"
   ]
  },
  {
   "cell_type": "code",
   "execution_count": 13,
   "metadata": {},
   "outputs": [
    {
     "name": "stdout",
     "output_type": "stream",
     "text": [
      "57 8.511600524573389\n"
     ]
    }
   ],
   "source": [
    "def stable_nucleus_A(Z):\n",
    "    A_array = np.arange(Z, 3*Z+1)\n",
    "    B_per_nucleons = binding_energy_per_nucleon(A_array, Z)\n",
    "\n",
    "    return A_array[np.argmax(B_per_nucleons)], B_per_nucleons[np.argmax(B_per_nucleons)], B_per_nucleons\n",
    "\n",
    "A, B, Barray = stable_nucleus_A(28)\n",
    "print(A, B)"
   ]
  },
  {
   "cell_type": "code",
   "execution_count": 14,
   "metadata": {},
   "outputs": [
    {
     "data": {
      "text/plain": [
       "[<matplotlib.lines.Line2D at 0x1b2a17e8250>]"
      ]
     },
     "execution_count": 14,
     "metadata": {},
     "output_type": "execute_result"
    },
    {
     "data": {
      "image/png": "[encoded data removed]",
      "text/plain": [
       "<Figure size 640x480 with 1 Axes>"
      ]
     },
     "metadata": {},
     "output_type": "display_data"
    }
   ],
   "source": [
    "import matplotlib.pyplot as plt\n",
    "plt.plot(Barray)"
   ]
  },
  {
   "cell_type": "markdown",
   "metadata": {},
   "source": [
    "#### d)"
   ]
  },
  {
   "cell_type": "code",
   "execution_count": 17,
   "metadata": {},
   "outputs": [
    {
     "name": "stdout",
     "output_type": "stream",
     "text": [
      "57 8.511600524573389\n"
     ]
    }
   ],
   "source": [
    "def stable_nucleus_A_100(Z):\n",
    "    A_array = np.arange(1, 101)\n",
    "    B_per_nucleons = binding_energy_per_nucleon(A_array, Z)\n",
    "    return A_array[np.argmax(B_per_nucleons)], B_per_nucleons[np.argmax(B_per_nucleons)], B_per_nucleons\n",
    "\n",
    "A, B, Barray = stable_nucleus_A_100(28)\n",
    "print(A, B)\n",
    "# fuck fix this"
   ]
  },
  {
   "cell_type": "markdown",
   "metadata": {},
   "source": [
    "### Exercise 9: Binomial coefficients"
   ]
  }
 ],
 "metadata": {
  "kernelspec": {
   "display_name": "Python 3",
   "language": "python",
   "name": "python3"
  },
  "language_info": {
   "codemirror_mode": {
    "name": "ipython",
    "version": 3
   },
   "file_extension": ".py",
   "mimetype": "text/x-python",
   "name": "python",
   "nbconvert_exporter": "python",
   "pygments_lexer": "ipython3",
   "version": "3.11.3"
  }
 },
 "nbformat": 4,
 "nbformat_minor": 2
}
