{
 "cells": [
  {
   "cell_type": "markdown",
   "metadata": {},
   "source": [
    "# PH 354 - HW 2\n",
    "## Atharv Sagar Suryawanshi"
   ]
  },
  {
   "cell_type": "code",
   "execution_count": 1,
   "metadata": {},
   "outputs": [],
   "source": [
    "# relevant modules\n",
    "import numpy as np\n",
    "import os\n",
    "import matplotlib.pyplot as plt"
   ]
  },
  {
   "cell_type": "markdown",
   "metadata": {},
   "source": [
    "### Exercise 1\n",
    "#### a)"
   ]
  },
  {
   "cell_type": "code",
   "execution_count": 2,
   "metadata": {},
   "outputs": [
    {
     "name": "stdout",
     "output_type": "stream",
     "text": [
      "Trapezoid integration yields: 4.50656\n",
      "Fractional error of trapezoid integration is 0.024\n"
     ]
    }
   ],
   "source": [
    "def function(x):\n",
    "    return x**4 - 2*x + 1\n",
    "\n",
    "def integrate_trapezoid(a, b, n_slices):\n",
    "    x_vals = np.linspace(a, b, n_slices+1) # n+1 points\n",
    "    h = (b-a)/n_slices\n",
    "    return h/2*(np.sum(2*function(x_vals[1:-1])) + function(x_vals[0]) + function(x_vals[-1]))\n",
    "    \n",
    "print(\"Trapezoid integration yields:\",integrate_trapezoid(0, 2, 10))\n",
    "print(f\"Fractional error of trapezoid integration is {abs(4.4 - integrate_trapezoid(0, 2, 10))/4.4:.3f}\")"
   ]
  },
  {
   "cell_type": "markdown",
   "metadata": {},
   "source": [
    "#### b)"
   ]
  },
  {
   "cell_type": "code",
   "execution_count": 3,
   "metadata": {},
   "outputs": [
    {
     "name": "stdout",
     "output_type": "stream",
     "text": [
      "4.400426666666667\n",
      "Fractional error of Simpson's rule integration is 9.696969696972666e-05\n",
      "Thus Simpsons Rule is much better integration method than Trapezoid.\n"
     ]
    }
   ],
   "source": [
    "def integrate_simpsons(a, b, n_slices):\n",
    "    x_vals = np.linspace(a, b, n_slices + 1)\n",
    "    h = (b - a)/(n_slices)\n",
    "    x1_indices = np.arange(1, n_slices, 2)\n",
    "    x2_indices = np.arange(2, n_slices, 2)\n",
    "    I = h/3*(function(x_vals[0]) + function(x_vals[-1]) \n",
    "            + 4*np.sum(function(x_vals[x1_indices])) \n",
    "            + 2*np.sum(function(x_vals[x2_indices])))\n",
    "    return I\n",
    "print(integrate_simpsons(0,2,10))\n",
    "print(f\"Fractional error of Simpson's rule integration is {abs(4.4 - integrate_simpsons(0, 2, 10))/4.4}\")\n",
    "print(\"Thus Simpsons Rule is much better integration method than Trapezoid.\")"
   ]
  },
  {
   "cell_type": "markdown",
   "metadata": {},
   "source": [
    "#### c)"
   ]
  },
  {
   "cell_type": "code",
   "execution_count": 4,
   "metadata": {},
   "outputs": [
    {
     "name": "stdout",
     "output_type": "stream",
     "text": [
      "Comparing methods for 100 and 1000 slices\n",
      "Trapezoid integration yields: 4.401066656\n",
      "Simpsons integration yields: 4.400000042666668\n",
      "Trapezoid integration yields: 4.400010666665601\n",
      "Simpsons integration yields: 4.400000000004267\n",
      "Simpsons rule is much better than Trapezoid rule for integration.\n"
     ]
    }
   ],
   "source": [
    "print(\"Comparing methods for 100 and 1000 slices\")\n",
    "print(\"Trapezoid integration yields:\",integrate_trapezoid(0, 2, 100))\n",
    "print(\"Simpsons integration yields:\",integrate_simpsons(0, 2, 100))\n",
    "\n",
    "print(\"Trapezoid integration yields:\",integrate_trapezoid(0, 2, 1000))      \n",
    "print(\"Simpsons integration yields:\",integrate_simpsons(0, 2, 1000))\n",
    "print(\"Simpsons rule is much better than Trapezoid rule for integration.\")  "
   ]
  },
  {
   "cell_type": "markdown",
   "metadata": {},
   "source": [
    "#### d)"
   ]
  },
  {
   "cell_type": "code",
   "execution_count": 5,
   "metadata": {},
   "outputs": [
    {
     "name": "stdout",
     "output_type": "stream",
     "text": [
      "(4.426660000000001, 0.02)\n",
      "(4.50656, 0.08)\n",
      "ch2 error is -0.026633333333333137 and absolute error is 0.026660000000000572\n"
     ]
    }
   ],
   "source": [
    "def integrate_trapezoid_with_error(a, b, n_slices):\n",
    "    x_vals = np.linspace(a, b, n_slices+1) # n+1 points\n",
    "    h = (b-a)/n_slices\n",
    "    I = h/2*(np.sum(2*function(x_vals[1:-1])) + function(x_vals[0]) + function(x_vals[-1]))\n",
    "    error = (b -a)**3/n_slices**2\n",
    "    return I, error\n",
    "print(integrate_trapezoid_with_error(0, 2, 20))\n",
    "print(integrate_trapezoid_with_error(0, 2, 10))\n",
    "\n",
    "ch2 = 1/3*(integrate_trapezoid_with_error(0, 2, 20)[0] - integrate_trapezoid_with_error(0, 2, 10)[0])\n",
    "abs_error = abs(4.4 - integrate_trapezoid_with_error(0, 2, 20)[0])\n",
    "print(f\"ch2 error is {ch2} and absolute error is {abs_error}\")  \n"
   ]
  },
  {
   "cell_type": "markdown",
   "metadata": {},
   "source": [
    "The difference in the between error calculation exists because of our assumption that error is of the order $O(h^2)$ while the existance of higher order terms is ignored. \n",
    "### Exercise 2\n",
    "#### a)"
   ]
  },
  {
   "cell_type": "code",
   "execution_count": 18,
   "metadata": {},
   "outputs": [
    {
     "name": "stdout",
     "output_type": "stream",
     "text": [
      "For slice: 1, Integral = 0.147979484546652\n",
      "For slice: 2, Integral = 0.3252319078064746, error estimate: 0.05908414108660753\n",
      "For slice: 4, Integral = 0.5122828507233315, error estimate: 0.06235031430561896\n",
      "For slice: 8, Integral = 0.40299744847824825, error estimate: 0.036428467415027734\n",
      "For slice: 16, Integral = 0.43010336929474696, error estimate: 0.009035306938832902\n",
      "For slice: 32, Integral = 0.4484146657874699, error estimate: 0.0061037654975743165\n",
      "For slice: 64, Integral = 0.45391293121537585, error estimate: 0.0018327551426353117\n",
      "For slice: 128, Integral = 0.4553485043728022, error estimate: 0.00047852438580879103\n",
      "For slice: 256, Integral = 0.4557112664532411, error estimate: 0.00012092069347963141\n",
      "For slice: 512, Integral = 0.4558021996516641, error estimate: 3.0311066140986664e-05\n",
      "For slice: 1024, Integral = 0.4558249481324202, error estimate: 7.582826918706154e-06\n",
      "For slice: 2048, Integral = 0.45583063620164616, error estimate: 1.896023075320663e-06\n",
      "For slice: 4096, Integral = 0.4558320582782707, error estimate: 4.7402554152290816e-07\n"
     ]
    }
   ],
   "source": [
    "def function(x):\n",
    "    return np.sin((100*x)**0.5)**2\n",
    "\n",
    "def integrate_trapezoid(a, b, n_slices):\n",
    "    x_vals = np.linspace(a, b, n_slices+1) # n+1 points\n",
    "    h = (b-a)/n_slices\n",
    "    return h*(np.sum(function(x_vals[1:-1])) + 0.5*function(x_vals[0]) + 0.5*function(x_vals[-1]))\n",
    "\n",
    "def adaptive_trapezoid(a, b, error_tol):\n",
    "    slice = 1\n",
    "    I_old = integrate_trapezoid(a, b, slice)\n",
    "    print(f\"For slice: {slice}, Integral = {I_old}\")\n",
    "    while True:\n",
    "        slice *= 2\n",
    "        I_new = integrate_trapezoid(a, b, slice)\n",
    "        estimate_error = abs(I_new - I_old)/3 # richardson extrapolation \n",
    "        print(f\"For slice: {slice}, Integral = {I_new}, error estimate: {estimate_error}\")\n",
    "        if estimate_error < error_tol:\n",
    "            break\n",
    "        I_old = I_new\n",
    "    return I_new, slice, estimate_error\n",
    "\n",
    "I, slices, error = adaptive_trapezoid(0, 1, 1E-6)\n",
    "# print(I, slices, error)"
   ]
  },
  {
   "cell_type": "markdown",
   "metadata": {},
   "source": [
    "#### b)"
   ]
  },
  {
   "cell_type": "code",
   "execution_count": 19,
   "metadata": {},
   "outputs": [
    {
     "name": "stdout",
     "output_type": "stream",
     "text": [
      "N = 2, R(1,1) = 0.3843160489, Error = 2.3633656435e-01\n",
      "N = 4, R(2,2) = 0.5873209728, Error = 2.0300492388e-01\n",
      "N = 8, R(3,3) = 0.3489738619, Error = 2.3834711091e-01\n",
      "N = 16, R(4,4) = 0.4458037647, Error = 9.6829902853e-02\n",
      "N = 32, R(5,5) = 0.4557774922, Error = 9.9737275203e-03\n",
      "N = 64, R(6,6) = 0.4558324945, Error = 5.5002230282e-05\n",
      "N = 128, R(7,7) = 0.4558325323, Error = 3.7843635114e-08\n",
      "\n",
      "Final Result:\n",
      "Integral = 0.4558325323, achieved with N = 128 intervals\n"
     ]
    },
    {
     "data": {
      "text/plain": [
       "array([[0.14797948, 0.        , 0.        , 0.        , 0.        ,\n",
       "        0.        , 0.        , 0.        ],\n",
       "       [0.32523191, 0.38431605, 0.        , 0.        , 0.        ,\n",
       "        0.        , 0.        , 0.        ],\n",
       "       [0.51228285, 0.57463317, 0.58732097, 0.        , 0.        ,\n",
       "        0.        , 0.        , 0.        ],\n",
       "       [0.40299745, 0.36656898, 0.35269804, 0.34897386, 0.        ,\n",
       "        0.        , 0.        , 0.        ],\n",
       "       [0.43010337, 0.43913868, 0.44397666, 0.44542552, 0.44580376,\n",
       "        0.        , 0.        , 0.        ],\n",
       "       [0.44841467, 0.45451843, 0.45554375, 0.45572735, 0.45576775,\n",
       "        0.45577749, 0.        , 0.        ],\n",
       "       [0.45391293, 0.45574569, 0.4558275 , 0.45583201, 0.45583242,\n",
       "        0.45583248, 0.45583249, 0.        ],\n",
       "       [0.4553485 , 0.45582703, 0.45583245, 0.45583253, 0.45583253,\n",
       "        0.45583253, 0.45583253, 0.45583253]])"
      ]
     },
     "execution_count": 19,
     "metadata": {},
     "output_type": "execute_result"
    }
   ],
   "source": [
    "def romberg_integrate(a, b, error_tol, max_iters = 20):\n",
    "    slice = 1\n",
    "    R = np.zeros((max_iters, max_iters))\n",
    "    R[0, 0] = integrate_trapezoid(a, b, slice)\n",
    "    # print(f\"For N:{slice} , R[0,0]: {R[0, 0]}\")\n",
    "    for k in range(1, max_iters):\n",
    "        slice *=  2\n",
    "        R[k, 0] = integrate_trapezoid(a, b, slice) \n",
    "        for m in range(1, k+1): # 1 to k\n",
    "            R[k, m] = R[k, m-1] + (R[k, m-1] - R[k-1, m-1])/(4**m - 1)\n",
    "        error = abs(R[k, k] - R[k-1, k-1])\n",
    "        print(f\"N = {slice}, R({k},{k}) = {R[k, k]:.10f}, Error = {error:.10e}\")\n",
    "        if error < error_tol:\n",
    "            print(\"\\nFinal Result:\")\n",
    "            print(f\"Integral = {R[k, k]:.10f}, achieved with N = {slice} intervals\")\n",
    "            return R[:k+1,:k+1]\n",
    "    print(\"Max iter reached without acheving required accuracy\")\n",
    "\n",
    "romberg_integrate(0, 1, 1E-6, 10)"
   ]
  },
  {
   "cell_type": "markdown",
   "metadata": {},
   "source": [
    "#### c) "
   ]
  },
  {
   "cell_type": "code",
   "execution_count": 24,
   "metadata": {},
   "outputs": [
    {
     "name": "stdout",
     "output_type": "stream",
     "text": [
      "For slice: 1, Integral = 0.09865298969776799\n",
      "For slice: 2, Integral = 0.38431604889308213, error estimate: 0.09522101973177138\n",
      "For slice: 4, Integral = 0.5746331650289502, error estimate: 0.06343903871195604\n",
      "For slice: 8, Integral = 0.36656898106322056, error estimate: 0.06935472798857656\n",
      "For slice: 16, Integral = 0.4391386762335799, error estimate: 0.024189898390119775\n",
      "For slice: 32, Integral = 0.4545184312850443, error estimate: 0.005126585017154813\n",
      "For slice: 64, Integral = 0.45574568635801116, error estimate: 0.00040908502432227917\n",
      "For slice: 128, Integral = 0.45582702875861086, error estimate: 2.7114133533234774e-05\n",
      "For slice: 256, Integral = 0.4558321871467207, error estimate: 1.7194627032757204e-06\n",
      "For slice: 512, Integral = 0.45583251071780506, error estimate: 1.0785702812358504e-07\n",
      "\n",
      " \n",
      "\n",
      "N = 2, R(1,1) = 0.4795370686, Error = 3.8088407893e-01\n",
      "N = 4, R(2,2) = 0.6486412127, Error = 1.6910414412e-01\n",
      "N = 8, R(3,3) = 0.2685514877, Error = 3.8008972500e-01\n",
      "N = 16, R(4,4) = 0.4783957809, Error = 2.0984429311e-01\n",
      "N = 32, R(5,5) = 0.4590702088, Error = 1.9325572037e-02\n",
      "N = 64, R(6,6) = 0.4558500245, Error = 3.2201843619e-03\n",
      "N = 128, R(7,7) = 0.4558325438, Error = 1.7480606397e-05\n",
      "N = 256, R(8,8) = 0.4558325323, Error = 1.1539281253e-08\n",
      "\n",
      "Final Result:\n",
      "Integral = 0.4558325323, achieved with N = 256 intervals\n"
     ]
    },
    {
     "data": {
      "text/plain": [
       "array([[0.09865299, 0.        , 0.        , 0.        , 0.        ,\n",
       "        0.        , 0.        , 0.        , 0.        ],\n",
       "       [0.38431605, 0.47953707, 0.        , 0.        , 0.        ,\n",
       "        0.        , 0.        , 0.        , 0.        ],\n",
       "       [0.57463317, 0.6380722 , 0.64864121, 0.        , 0.        ,\n",
       "        0.        , 0.        , 0.        , 0.        ],\n",
       "       [0.36656898, 0.29721425, 0.27449039, 0.26855149, 0.        ,\n",
       "        0.        , 0.        , 0.        , 0.        ],\n",
       "       [0.43913868, 0.46332857, 0.47440286, 0.47757608, 0.47839578,\n",
       "        0.        , 0.        , 0.        , 0.        ],\n",
       "       [0.45451843, 0.45964502, 0.45939945, 0.4591613 , 0.45908908,\n",
       "        0.45907021, 0.        , 0.        , 0.        ],\n",
       "       [0.45574569, 0.45615477, 0.45592209, 0.45586689, 0.45585397,\n",
       "        0.45585081, 0.45585002, 0.        , 0.        ],\n",
       "       [0.45582703, 0.45585414, 0.4558341 , 0.4558327 , 0.45583257,\n",
       "        0.45583255, 0.45583254, 0.45583254, 0.        ],\n",
       "       [0.45583219, 0.45583391, 0.45583256, 0.45583253, 0.45583253,\n",
       "        0.45583253, 0.45583253, 0.45583253, 0.45583253]])"
      ]
     },
     "execution_count": 24,
     "metadata": {},
     "output_type": "execute_result"
    }
   ],
   "source": [
    "def integrate_simpsons(a, b, n_slices):\n",
    "    x_vals = np.linspace(a, b, n_slices + 1)\n",
    "    h = (b - a)/(n_slices)\n",
    "    x1_indices = np.arange(1, n_slices, 2)\n",
    "    x2_indices = np.arange(2, n_slices, 2)\n",
    "    I = h/3*(function(x_vals[0]) + function(x_vals[-1]) \n",
    "            + 4*np.sum(function(x_vals[x1_indices])) \n",
    "            + 2*np.sum(function(x_vals[x2_indices])))\n",
    "    return I\n",
    "\n",
    "def adaptive_simpsons(a, b, error_tol):\n",
    "    slice = 1\n",
    "    I_old = integrate_simpsons(a, b, slice)\n",
    "    print(f\"For slice: {slice}, Integral = {I_old}\")\n",
    "    while True:\n",
    "        slice *= 2\n",
    "        I_new = integrate_simpsons(a, b, slice)\n",
    "        estimate_error = abs(I_new - I_old)/3 # richardson extrapolation \n",
    "        print(f\"For slice: {slice}, Integral = {I_new}, error estimate: {estimate_error}\")\n",
    "        if estimate_error < error_tol:\n",
    "            break\n",
    "        I_old = I_new\n",
    "    return I_new, slice, estimate_error\n",
    "\n",
    "def romberg_simpsons(a, b, error_tol, max_iters = 20):\n",
    "    slice = 1\n",
    "    R = np.zeros((max_iters, max_iters))\n",
    "    R[0, 0] = integrate_simpsons(a, b, slice)\n",
    "    # print(f\"For N:{slice} , R[0,0]: {R[0, 0]}\")\n",
    "    for k in range(1, max_iters):\n",
    "        slice *=  2\n",
    "        R[k, 0] = integrate_simpsons(a, b, slice) \n",
    "        for m in range(1, k+1): # 1 to k\n",
    "            R[k, m] = R[k, m-1] + (R[k, m-1] - R[k-1, m-1])/(4**m - 1)\n",
    "        error = abs(R[k, k] - R[k-1, k-1])\n",
    "        print(f\"N = {slice}, R({k},{k}) = {R[k, k]:.10f}, Error = {error:.10e}\")\n",
    "        if error < error_tol:\n",
    "            print(\"\\nFinal Result:\")\n",
    "            print(f\"Integral = {R[k, k]:.10f}, achieved with N = {slice} intervals\")\n",
    "            return R[:k+1,:k+1]\n",
    "    print(\"Max iter reached without acheving required accuracy\")\n",
    "\n",
    "\n",
    "I, slice, error = adaptive_simpsons(0, 1, 1e-6)\n",
    "\n",
    "print(\"\\n \\n\")\n",
    "\n",
    "romberg_simpsons(0, 1, 1e-6)"
   ]
  },
  {
   "cell_type": "markdown",
   "metadata": {},
   "source": [
    "### Exercise 3 same as 2 wtf!"
   ]
  },
  {
   "cell_type": "code",
   "execution_count": null,
   "metadata": {},
   "outputs": [],
   "source": []
  }
 ],
 "metadata": {
  "kernelspec": {
   "display_name": "base",
   "language": "python",
   "name": "python3"
  },
  "language_info": {
   "codemirror_mode": {
    "name": "ipython",
    "version": 3
   },
   "file_extension": ".py",
   "mimetype": "text/x-python",
   "name": "python",
   "nbconvert_exporter": "python",
   "pygments_lexer": "ipython3",
   "version": "3.12.7"
  }
 },
 "nbformat": 4,
 "nbformat_minor": 2
}
