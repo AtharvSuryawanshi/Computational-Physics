{
 "cells": [
  {
   "cell_type": "markdown",
   "metadata": {},
   "source": [
    "# PH 354 - HW 2\n",
    "## Atharv Sagar Suryawanshi"
   ]
  },
  {
   "cell_type": "code",
   "execution_count": 2,
   "metadata": {},
   "outputs": [],
   "source": [
    "# relevant modules\n",
    "import numpy as np\n",
    "import os\n",
    "import matplotlib.pyplot as plt"
   ]
  },
  {
   "cell_type": "markdown",
   "metadata": {},
   "source": [
    "### Exercise 1\n",
    "#### a)"
   ]
  },
  {
   "cell_type": "code",
   "execution_count": 123,
   "metadata": {},
   "outputs": [
    {
     "name": "stdout",
     "output_type": "stream",
     "text": [
      "Trapezoid integration yields: 4.50656\n",
      "Fractional error of trapezoid integration is 0.024\n"
     ]
    }
   ],
   "source": [
    "def function(x):\n",
    "    return x**4 - 2*x + 1\n",
    "\n",
    "def integrate_trapezoid(a, b, n_slices):\n",
    "    x_vals = np.linspace(a, b, n_slices+1) # n+1 points\n",
    "    h = (b-a)/n_slices\n",
    "    return h/2*(np.sum(2*function(x_vals[1:-1])) + function(x_vals[0]) + function(x_vals[-1]))\n",
    "    \n",
    "print(\"Trapezoid integration yields:\",integrate_trapezoid(0, 2, 10))\n",
    "print(f\"Fractional error of trapezoid integration is {abs(4.4 - integrate_trapezoid(0, 2, 10))/4.4:.3f}\")"
   ]
  },
  {
   "cell_type": "markdown",
   "metadata": {},
   "source": [
    "#### b)"
   ]
  },
  {
   "cell_type": "code",
   "execution_count": 118,
   "metadata": {},
   "outputs": [
    {
     "name": "stdout",
     "output_type": "stream",
     "text": [
      "4.400426666666667\n",
      "Fractional error of Simpson's rule integration is 9.696969696972666e-05\n",
      "Thus Simpsons Rule is much better integration method than Trapezoid.\n"
     ]
    }
   ],
   "source": [
    "def integrate_simpsons(a, b, n_slices):\n",
    "    x_vals = np.linspace(a, b, n_slices + 1)\n",
    "    h = (b - a)/(n_slices)\n",
    "    x1_indices = np.arange(1, n_slices, 2)\n",
    "    x2_indices = np.arange(2, n_slices, 2)\n",
    "    I = h/3*(function(x_vals[0]) + function(x_vals[-1]) \n",
    "            + 4*np.sum(function(x_vals[x1_indices])) \n",
    "            + 2*np.sum(function(x_vals[x2_indices])))\n",
    "    return I\n",
    "print(integrate_simpsons(0,2,10))\n",
    "print(f\"Fractional error of Simpson's rule integration is {abs(4.4 - integrate_simpsons(0, 2, 10))/4.4}\")\n",
    "print(\"Thus Simpsons Rule is much better integration method than Trapezoid.\")"
   ]
  },
  {
   "cell_type": "markdown",
   "metadata": {},
   "source": [
    "#### c)"
   ]
  },
  {
   "cell_type": "code",
   "execution_count": 122,
   "metadata": {},
   "outputs": [
    {
     "name": "stdout",
     "output_type": "stream",
     "text": [
      "Comparing methods for 100 and 1000 slices\n",
      "Trapezoid integration yields: 4.401066656\n",
      "Simpsons integration yields: 4.400000042666668\n",
      "Trapezoid integration yields: 4.400010666665601\n",
      "Simpsons integration yields: 4.400000000004267\n",
      "Simpsons rule is much better than Trapezoid rule for integration.\n"
     ]
    }
   ],
   "source": [
    "print(\"Comparing methods for 100 and 1000 slices\")\n",
    "print(\"Trapezoid integration yields:\",integrate_trapezoid(0, 2, 100))\n",
    "print(\"Simpsons integration yields:\",integrate_simpsons(0, 2, 100))\n",
    "\n",
    "print(\"Trapezoid integration yields:\",integrate_trapezoid(0, 2, 1000))      \n",
    "print(\"Simpsons integration yields:\",integrate_simpsons(0, 2, 1000))\n",
    "print(\"Simpsons rule is much better than Trapezoid rule for integration.\")  "
   ]
  },
  {
   "cell_type": "markdown",
   "metadata": {},
   "source": [
    "#### d)"
   ]
  },
  {
   "cell_type": "code",
   "execution_count": 129,
   "metadata": {},
   "outputs": [
    {
     "name": "stdout",
     "output_type": "stream",
     "text": [
      "(4.426660000000001, 0.02)\n",
      "(4.50656, 0.08)\n"
     ]
    }
   ],
   "source": [
    "def integrate_trapezoid(a, b, n_slices):\n",
    "    x_vals = np.linspace(a, b, n_slices+1) # n+1 points\n",
    "    h = (b-a)/n_slices\n",
    "    I = h/2*(np.sum(2*function(x_vals[1:-1])) + function(x_vals[0]) + function(x_vals[-1]))\n",
    "    error = (b -a)**3/n_slices**2\n",
    "    return I, error\n",
    "print(integrate_trapezoid(0, 2, 20))\n",
    "print(integrate_trapezoid(0, 2, 10))"
   ]
  }
 ],
 "metadata": {
  "kernelspec": {
   "display_name": "base",
   "language": "python",
   "name": "python3"
  },
  "language_info": {
   "codemirror_mode": {
    "name": "ipython",
    "version": 3
   },
   "file_extension": ".py",
   "mimetype": "text/x-python",
   "name": "python",
   "nbconvert_exporter": "python",
   "pygments_lexer": "ipython3",
   "version": "3.12.7"
  }
 },
 "nbformat": 4,
 "nbformat_minor": 2
}
